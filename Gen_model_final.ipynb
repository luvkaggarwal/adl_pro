{
  "nbformat": 4,
  "nbformat_minor": 0,
  "metadata": {
    "colab": {
      "name": "Gen_model_final.ipynb",
      "version": "0.3.2",
      "provenance": [],
      "collapsed_sections": []
    },
    "language_info": {
      "codemirror_mode": {
        "name": "ipython",
        "version": 3
      },
      "file_extension": ".py",
      "mimetype": "text/x-python",
      "name": "python",
      "nbconvert_exporter": "python",
      "pygments_lexer": "ipython3",
      "version": "3.6.7"
    },
    "kernelspec": {
      "display_name": "Python 3",
      "language": "python",
      "name": "python3"
    }
  },
  "cells": [
    {
      "cell_type": "code",
      "metadata": {
        "colab_type": "code",
        "id": "Nw36bgSkPMeD",
        "outputId": "c9e4f7a1-41b9-4e2a-dc54-17396e7757ce",
        "colab": {
          "base_uri": "https://localhost:8080/",
          "height": 581
        }
      },
      "source": [
        "!pip install tensorflow==2.0.0-alpha0"
      ],
      "execution_count": 0,
      "outputs": [
        {
          "output_type": "stream",
          "text": [
            "Collecting tensorflow==2.0.0-alpha0\n",
            "\u001b[?25l  Downloading https://files.pythonhosted.org/packages/29/39/f99185d39131b8333afcfe1dcdb0629c2ffc4ecfb0e4c14ca210d620e56c/tensorflow-2.0.0a0-cp36-cp36m-manylinux1_x86_64.whl (79.9MB)\n",
            "\u001b[K     |████████████████████████████████| 79.9MB 1.2MB/s \n",
            "\u001b[?25hRequirement already satisfied: keras-preprocessing>=1.0.5 in /usr/local/lib/python3.6/dist-packages (from tensorflow==2.0.0-alpha0) (1.0.9)\n",
            "Requirement already satisfied: wheel>=0.26 in /usr/local/lib/python3.6/dist-packages (from tensorflow==2.0.0-alpha0) (0.33.4)\n",
            "Collecting google-pasta>=0.1.2 (from tensorflow==2.0.0-alpha0)\n",
            "\u001b[?25l  Downloading https://files.pythonhosted.org/packages/f9/68/a14620bfb042691f532dcde8576ff82ee82e4c003cdc0a3dbee5f289cee6/google_pasta-0.1.6-py3-none-any.whl (51kB)\n",
            "\u001b[K     |████████████████████████████████| 61kB 19.0MB/s \n",
            "\u001b[?25hRequirement already satisfied: keras-applications>=1.0.6 in /usr/local/lib/python3.6/dist-packages (from tensorflow==2.0.0-alpha0) (1.0.7)\n",
            "Requirement already satisfied: absl-py>=0.7.0 in /usr/local/lib/python3.6/dist-packages (from tensorflow==2.0.0-alpha0) (0.7.1)\n",
            "Requirement already satisfied: six>=1.10.0 in /usr/local/lib/python3.6/dist-packages (from tensorflow==2.0.0-alpha0) (1.12.0)\n",
            "Collecting tb-nightly<1.14.0a20190302,>=1.14.0a20190301 (from tensorflow==2.0.0-alpha0)\n",
            "\u001b[?25l  Downloading https://files.pythonhosted.org/packages/a9/51/aa1d756644bf4624c03844115e4ac4058eff77acd786b26315f051a4b195/tb_nightly-1.14.0a20190301-py3-none-any.whl (3.0MB)\n",
            "\u001b[K     |████████████████████████████████| 3.0MB 32.0MB/s \n",
            "\u001b[?25hRequirement already satisfied: grpcio>=1.8.6 in /usr/local/lib/python3.6/dist-packages (from tensorflow==2.0.0-alpha0) (1.15.0)\n",
            "Requirement already satisfied: astor>=0.6.0 in /usr/local/lib/python3.6/dist-packages (from tensorflow==2.0.0-alpha0) (0.7.1)\n",
            "Requirement already satisfied: protobuf>=3.6.1 in /usr/local/lib/python3.6/dist-packages (from tensorflow==2.0.0-alpha0) (3.7.1)\n",
            "Requirement already satisfied: numpy<2.0,>=1.14.5 in /usr/local/lib/python3.6/dist-packages (from tensorflow==2.0.0-alpha0) (1.16.3)\n",
            "Requirement already satisfied: termcolor>=1.1.0 in /usr/local/lib/python3.6/dist-packages (from tensorflow==2.0.0-alpha0) (1.1.0)\n",
            "Requirement already satisfied: gast>=0.2.0 in /usr/local/lib/python3.6/dist-packages (from tensorflow==2.0.0-alpha0) (0.2.2)\n",
            "Collecting tf-estimator-nightly<1.14.0.dev2019030116,>=1.14.0.dev2019030115 (from tensorflow==2.0.0-alpha0)\n",
            "\u001b[?25l  Downloading https://files.pythonhosted.org/packages/13/82/f16063b4eed210dc2ab057930ac1da4fbe1e91b7b051a6c8370b401e6ae7/tf_estimator_nightly-1.14.0.dev2019030115-py2.py3-none-any.whl (411kB)\n",
            "\u001b[K     |████████████████████████████████| 419kB 44.6MB/s \n",
            "\u001b[?25hRequirement already satisfied: h5py in /usr/local/lib/python3.6/dist-packages (from keras-applications>=1.0.6->tensorflow==2.0.0-alpha0) (2.8.0)\n",
            "Requirement already satisfied: werkzeug>=0.11.15 in /usr/local/lib/python3.6/dist-packages (from tb-nightly<1.14.0a20190302,>=1.14.0a20190301->tensorflow==2.0.0-alpha0) (0.15.3)\n",
            "Requirement already satisfied: markdown>=2.6.8 in /usr/local/lib/python3.6/dist-packages (from tb-nightly<1.14.0a20190302,>=1.14.0a20190301->tensorflow==2.0.0-alpha0) (3.1)\n",
            "Requirement already satisfied: setuptools in /usr/local/lib/python3.6/dist-packages (from protobuf>=3.6.1->tensorflow==2.0.0-alpha0) (41.0.1)\n",
            "Installing collected packages: google-pasta, tb-nightly, tf-estimator-nightly, tensorflow\n",
            "  Found existing installation: tensorflow 1.13.1\n",
            "    Uninstalling tensorflow-1.13.1:\n",
            "      Successfully uninstalled tensorflow-1.13.1\n",
            "Successfully installed google-pasta-0.1.6 tb-nightly-1.14.0a20190301 tensorflow-2.0.0a0 tf-estimator-nightly-1.14.0.dev2019030115\n"
          ],
          "name": "stdout"
        }
      ]
    },
    {
      "cell_type": "code",
      "metadata": {
        "colab_type": "code",
        "id": "Mn1VJIRhPSup",
        "outputId": "c526d54b-8cfa-495e-b302-a88f6926b2ce",
        "colab": {
          "base_uri": "https://localhost:8080/",
          "height": 34
        }
      },
      "source": [
        "%matplotlib inline\n",
        "import matplotlib.pyplot as plt\n",
        "import numpy as np\n",
        "import tensorflow as tf\n",
        "from tensorflow.keras.applications import InceptionV3, MobileNetV2\n",
        "from keras.preprocessing.image import ImageDataGenerator"
      ],
      "execution_count": 0,
      "outputs": [
        {
          "output_type": "stream",
          "text": [
            "Using TensorFlow backend.\n"
          ],
          "name": "stderr"
        }
      ]
    },
    {
      "cell_type": "code",
      "metadata": {
        "colab_type": "code",
        "id": "XhQTxG8HPZ2H",
        "outputId": "6a87109c-f52d-4f55-ba58-b0172fff5852",
        "colab": {
          "base_uri": "https://localhost:8080/",
          "height": 122
        }
      },
      "source": [
        "#mount gdrive\n",
        "from google.colab import drive\n",
        "\n",
        "#check path to file\n",
        "drive.mount('/content/gdrive')"
      ],
      "execution_count": 0,
      "outputs": [
        {
          "output_type": "stream",
          "text": [
            "Go to this URL in a browser: https://accounts.google.com/o/oauth2/auth?client_id=947318989803-6bn6qk8qdgf4n4g3pfee6491hc0brc4i.apps.googleusercontent.com&redirect_uri=urn%3Aietf%3Awg%3Aoauth%3A2.0%3Aoob&scope=email%20https%3A%2F%2Fwww.googleapis.com%2Fauth%2Fdocs.test%20https%3A%2F%2Fwww.googleapis.com%2Fauth%2Fdrive%20https%3A%2F%2Fwww.googleapis.com%2Fauth%2Fdrive.photos.readonly%20https%3A%2F%2Fwww.googleapis.com%2Fauth%2Fpeopleapi.readonly&response_type=code\n",
            "\n",
            "Enter your authorization code:\n",
            "··········\n",
            "Mounted at /content/gdrive\n"
          ],
          "name": "stdout"
        }
      ]
    },
    {
      "cell_type": "markdown",
      "metadata": {
        "id": "lJuW0ir7b6Lt",
        "colab_type": "text"
      },
      "source": [
        "**Params to be changed**"
      ]
    },
    {
      "cell_type": "code",
      "metadata": {
        "colab_type": "code",
        "id": "GQFDUiF0b4Ci",
        "colab": {}
      },
      "source": [
        "# Params to be changed\n",
        "\n",
        "level = 6\n",
        "model_path = 'gdrive/My Drive/adl_pro/models/'\n",
        "model_name = 'level6_saurabh.h5'\n",
        "root = 'gdrive/My Drive/adl_pro/data/'"
      ],
      "execution_count": 0,
      "outputs": []
    },
    {
      "cell_type": "markdown",
      "metadata": {
        "colab_type": "text",
        "id": "4sHk5pwggbf2"
      },
      "source": [
        "**Model Architecture**\n",
        "\n",
        "Design here, fit later"
      ]
    },
    {
      "cell_type": "code",
      "metadata": {
        "id": "e8tKHT-3b6Lw",
        "colab_type": "code",
        "outputId": "462678a9-f2fd-4b36-d051-924b788104a1",
        "colab": {
          "base_uri": "https://localhost:8080/",
          "height": 493
        }
      },
      "source": [
        "conv_base = InceptionV3(weights='imagenet',include_top=False, input_shape=(299, 299, 3))\n",
        "conv_base.trainable = False\n",
        "\n",
        "model = tf.keras.Sequential()\n",
        "model.add(conv_base)\n",
        "model.add(tf.keras.layers.Conv2D(filters=128, kernel_size=(5,5), padding='same', activation='relu'))\n",
        "model.add(tf.keras.layers.MaxPooling2D(pool_size=(5,5)))\n",
        "model.add(tf.keras.layers.Flatten())\n",
        "model.add(tf.keras.layers.Dense(256, activation='relu'))\n",
        "model.add(tf.keras.layers.Dropout(0.2))\n",
        "model.add(tf.keras.layers.Dense(64, activation='relu'))\n",
        "model.add(tf.keras.layers.Dropout(0.2))\n",
        "model.add(tf.keras.layers.Dense(2, activation='softmax'))\n",
        "model.compile(loss='sparse_categorical_crossentropy', optimizer='adam', metrics=['accuracy'])\n",
        "model.summary()"
      ],
      "execution_count": 0,
      "outputs": [
        {
          "output_type": "stream",
          "text": [
            "Downloading data from https://github.com/fchollet/deep-learning-models/releases/download/v0.5/inception_v3_weights_tf_dim_ordering_tf_kernels_notop.h5\n",
            "87916544/87910968 [==============================] - 2s 0us/step\n",
            "Model: \"sequential\"\n",
            "_________________________________________________________________\n",
            "Layer (type)                 Output Shape              Param #   \n",
            "=================================================================\n",
            "inception_v3 (Model)         (None, 8, 8, 2048)        21802784  \n",
            "_________________________________________________________________\n",
            "conv2d_94 (Conv2D)           (None, 8, 8, 128)         6553728   \n",
            "_________________________________________________________________\n",
            "max_pooling2d_4 (MaxPooling2 (None, 1, 1, 128)         0         \n",
            "_________________________________________________________________\n",
            "flatten (Flatten)            (None, 128)               0         \n",
            "_________________________________________________________________\n",
            "dense (Dense)                (None, 256)               33024     \n",
            "_________________________________________________________________\n",
            "dropout (Dropout)            (None, 256)               0         \n",
            "_________________________________________________________________\n",
            "dense_1 (Dense)              (None, 64)                16448     \n",
            "_________________________________________________________________\n",
            "dropout_1 (Dropout)          (None, 64)                0         \n",
            "_________________________________________________________________\n",
            "dense_2 (Dense)              (None, 2)                 130       \n",
            "=================================================================\n",
            "Total params: 28,406,114\n",
            "Trainable params: 6,603,330\n",
            "Non-trainable params: 21,802,784\n",
            "_________________________________________________________________\n"
          ],
          "name": "stdout"
        }
      ]
    },
    {
      "cell_type": "markdown",
      "metadata": {
        "id": "CKbd5Hq5cBVH",
        "colab_type": "text"
      },
      "source": [
        "**No need to change anything below this.**"
      ]
    },
    {
      "cell_type": "code",
      "metadata": {
        "colab_type": "code",
        "id": "2pTkVAj03D5X",
        "outputId": "5d809c96-22d7-48dd-f53b-ee1d8a4b2885",
        "colab": {
          "base_uri": "https://localhost:8080/",
          "height": 51
        }
      },
      "source": [
        "import os\n",
        "\n",
        "cancer = root + 'level' + str(level) + '/train/cancer/'\n",
        "healthy = root + 'level' + str(level) + '/train/healthy/'\n",
        "count_cancer = len(os.listdir(cancer))\n",
        "count_healthy = len(os.listdir(healthy))\n",
        "\n",
        "print( 'No. of Cancer Files: ', count_cancer )\n",
        "print( 'No. of Healthy Files: ', count_healthy )"
      ],
      "execution_count": 0,
      "outputs": [
        {
          "output_type": "stream",
          "text": [
            "No. of Cancer Files:  3383\n",
            "No. of Healthy Files:  3942\n"
          ],
          "name": "stdout"
        }
      ]
    },
    {
      "cell_type": "markdown",
      "metadata": {
        "colab_type": "text",
        "id": "SRSddD4JylNM"
      },
      "source": [
        "**Run the cell below iff subsampled data is not available.**\n",
        "\n",
        "samples = 260 for level 3\n",
        "\n",
        "samples = 300 for level 4\n",
        "\n",
        "samples = 400 for level 5\n",
        "\n",
        "No sampling required for level 6"
      ]
    },
    {
      "cell_type": "code",
      "metadata": {
        "colab_type": "code",
        "id": "N7zAitxX-XSI",
        "colab": {}
      },
      "source": [
        "from shutil import copyfile\n",
        "import os, random\n",
        "\n",
        "dst = root + 'level' + str(level) + '/train/healthy_sub/'\n",
        "if count_cancer < count_healthy:\n",
        "  if not os.path.exists(dst):\n",
        "    os.makedirs(dst)\n",
        "  if len(os.listdir(dst)) == 0:\n",
        "    for file in random.sample(os.listdir(healthy), count_cancer):\n",
        "      copyfile(healthy+file, dst+file)\n"
      ],
      "execution_count": 0,
      "outputs": []
    },
    {
      "cell_type": "code",
      "metadata": {
        "colab_type": "code",
        "id": "yGjRjSJyPTnw",
        "outputId": "a47e3163-b3f3-4e40-8ff5-e86c47089751",
        "colab": {
          "base_uri": "https://localhost:8080/",
          "height": 51
        }
      },
      "source": [
        "# open file in gdrive\n",
        "augment_datagen = ImageDataGenerator( rescale = 1./255, rotation_range = 45,\n",
        "                              width_shift_range = 0.2, height_shift_range = 0.2,\n",
        "                              horizontal_flip = True, vertical_flip = True\n",
        "                            )\n",
        "\n",
        "if count_cancer < count_healthy:\n",
        "  class_healthy = 'healthy_sub'\n",
        "else:\n",
        "  class_healthy = 'healthy'\n",
        "\n",
        "train_generator = augment_datagen.flow_from_directory(\n",
        "          root + 'level' + str(level) + '/train',\n",
        "          target_size=(299, 299),\n",
        "          batch_size=32,\n",
        "          classes = ['cancer',class_healthy],\n",
        "          class_mode='sparse')\n",
        "\n",
        "normal_datagen = ImageDataGenerator( rescale = 1./255 )\n",
        "\n",
        "validate_generator = normal_datagen.flow_from_directory(\n",
        "          root + 'level' + str(level) + '/validate',\n",
        "          target_size=(299, 299),\n",
        "          batch_size=100,\n",
        "          class_mode='sparse')"
      ],
      "execution_count": 0,
      "outputs": [
        {
          "output_type": "stream",
          "text": [
            "Found 6766 images belonging to 2 classes.\n",
            "Found 1065 images belonging to 2 classes.\n"
          ],
          "name": "stdout"
        }
      ]
    },
    {
      "cell_type": "code",
      "metadata": {
        "colab_type": "code",
        "id": "Z6kAGC_pP02e",
        "outputId": "5f0e8a88-f3fa-4562-b0b2-424fbfc00271",
        "colab": {
          "base_uri": "https://localhost:8080/",
          "height": 357
        }
      },
      "source": [
        "history = model.fit_generator(\n",
        "        train_generator,\n",
        "        steps_per_epoch=10,\n",
        "        epochs=10,\n",
        "        validation_data=validate_generator,\n",
        "        #validation_steps=100\n",
        ")"
      ],
      "execution_count": 0,
      "outputs": [
        {
          "output_type": "stream",
          "text": [
            "Epoch 1/10\n",
            "10/10 [==============================] - 625s 63s/step - loss: 5.8793 - accuracy: 0.5000 - val_loss: 2.6214 - val_accuracy: 0.3737\n",
            "Epoch 2/10\n",
            "10/10 [==============================] - 409s 41s/step - loss: 2.2514 - accuracy: 0.5250 - val_loss: 1.3425 - val_accuracy: 0.3737\n",
            "Epoch 3/10\n",
            "10/10 [==============================] - 407s 41s/step - loss: 1.4048 - accuracy: 0.5464 - val_loss: 0.6553 - val_accuracy: 0.6272\n",
            "Epoch 4/10\n",
            "10/10 [==============================] - 412s 41s/step - loss: 1.0095 - accuracy: 0.4906 - val_loss: 0.6668 - val_accuracy: 0.6047\n",
            "Epoch 5/10\n",
            "10/10 [==============================] - 401s 40s/step - loss: 0.7228 - accuracy: 0.6250 - val_loss: 0.7643 - val_accuracy: 0.3746\n",
            "Epoch 6/10\n",
            "10/10 [==============================] - 401s 40s/step - loss: 0.6909 - accuracy: 0.5625 - val_loss: 0.6712 - val_accuracy: 0.6160\n",
            "Epoch 7/10\n",
            "10/10 [==============================] - 414s 41s/step - loss: 0.6502 - accuracy: 0.6250 - val_loss: 0.6837 - val_accuracy: 0.5615\n",
            "Epoch 8/10\n",
            "10/10 [==============================] - 412s 41s/step - loss: 0.6639 - accuracy: 0.5750 - val_loss: 0.7450 - val_accuracy: 0.4779\n",
            "Epoch 9/10\n",
            "10/10 [==============================] - 425s 42s/step - loss: 0.6723 - accuracy: 0.5875 - val_loss: 0.6596 - val_accuracy: 0.6263\n",
            "Epoch 10/10\n",
            "10/10 [==============================] - 421s 42s/step - loss: 0.7021 - accuracy: 0.5906 - val_loss: 0.7940 - val_accuracy: 0.3784\n"
          ],
          "name": "stdout"
        }
      ]
    },
    {
      "cell_type": "code",
      "metadata": {
        "colab_type": "code",
        "id": "rQeg2H_iDdsH",
        "colab": {}
      },
      "source": [
        "model.save( model_path + model_name )"
      ],
      "execution_count": 0,
      "outputs": []
    },
    {
      "cell_type": "code",
      "metadata": {
        "colab_type": "code",
        "id": "4xQcO0j_7cr9",
        "colab": {}
      },
      "source": [
        ""
      ],
      "execution_count": 0,
      "outputs": []
    }
  ]
}