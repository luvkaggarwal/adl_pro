{
  "nbformat": 4,
  "nbformat_minor": 0,
  "metadata": {
    "colab": {
      "name": "gen_data_final.ipynb",
      "version": "0.3.2",
      "provenance": [],
      "collapsed_sections": []
    },
    "language_info": {
      "codemirror_mode": {
        "name": "ipython",
        "version": 3
      },
      "file_extension": ".py",
      "mimetype": "text/x-python",
      "name": "python",
      "nbconvert_exporter": "python",
      "pygments_lexer": "ipython3",
      "version": "3.6.7"
    },
    "kernelspec": {
      "display_name": "Python 3",
      "language": "python",
      "name": "python3"
    },
    "accelerator": "GPU"
  },
  "cells": [
    {
      "cell_type": "code",
      "metadata": {
        "colab_type": "code",
        "id": "HJ_T09jo5rxS",
        "outputId": "02b0450f-e70c-4a44-b6fc-a942b847a0d0",
        "colab": {
          "base_uri": "https://localhost:8080/",
          "height": 243
        }
      },
      "source": [
        "# Install the OpenSlide C library and Python bindings\n",
        "!apt-get install openslide-tools\n",
        "!pip install openslide-python"
      ],
      "execution_count": 0,
      "outputs": [
        {
          "output_type": "stream",
          "text": [
            "Reading package lists... Done\n",
            "Building dependency tree       \n",
            "Reading state information... Done\n",
            "openslide-tools is already the newest version (3.4.1+dfsg-2).\n",
            "The following package was automatically installed and is no longer required:\n",
            "  libnvidia-common-410\n",
            "Use 'apt autoremove' to remove it.\n",
            "0 upgraded, 0 newly installed, 0 to remove and 7 not upgraded.\n",
            "Requirement already satisfied: openslide-python in /usr/local/lib/python3.6/dist-packages (1.1.1)\n",
            "Requirement already satisfied: Pillow in /usr/local/lib/python3.6/dist-packages (from openslide-python) (4.3.0)\n",
            "Requirement already satisfied: olefile in /usr/local/lib/python3.6/dist-packages (from Pillow->openslide-python) (0.46)\n"
          ],
          "name": "stdout"
        }
      ]
    },
    {
      "cell_type": "code",
      "metadata": {
        "colab_type": "code",
        "id": "Ws_fS_f13WUd",
        "colab": {}
      },
      "source": [
        "%matplotlib inline\n",
        "import matplotlib.pyplot as plt\n",
        "import numpy as np\n",
        "from openslide import open_slide, __library_version__ as openslide_version\n",
        "import os\n",
        "from PIL import Image\n",
        "from skimage.color import rgb2gray\n",
        "from google.colab import drive"
      ],
      "execution_count": 0,
      "outputs": []
    },
    {
      "cell_type": "code",
      "metadata": {
        "colab_type": "code",
        "id": "3hTKY-pJ_aLH",
        "outputId": "520106d1-e218-48b5-a264-d8015e68011e",
        "colab": {
          "base_uri": "https://localhost:8080/",
          "height": 35
        }
      },
      "source": [
        "drive.mount('/content/gdrive', force_remount=True)"
      ],
      "execution_count": 0,
      "outputs": [
        {
          "output_type": "stream",
          "text": [
            "Mounted at /content/gdrive\n"
          ],
          "name": "stdout"
        }
      ]
    },
    {
      "cell_type": "markdown",
      "metadata": {
        "id": "mC_50gJ7Y44Y",
        "colab_type": "text"
      },
      "source": [
        "**Params to be changed.**"
      ]
    },
    {
      "cell_type": "code",
      "metadata": {
        "colab_type": "code",
        "id": "DZtR6bJY7nYj",
        "colab": {}
      },
      "source": [
        "# Params to be changed.\n",
        "\n",
        "train = ['001','002','005','019','023','031','035','057','059','064','075','078','081','084','091','094','096']\n",
        "validate = ['012','016']\n",
        "\n",
        "analyse = 'train'\n",
        "tissue_percentage = 30\n",
        "stride = 5\n",
        "levels = [1, 3, 4, 5, 6]"
      ],
      "execution_count": 0,
      "outputs": []
    },
    {
      "cell_type": "code",
      "metadata": {
        "colab_type": "code",
        "id": "WZcw3FNG_sRV",
        "outputId": "f71cfded-80b4-42b2-ea6b-b07bff06fb09",
        "colab": {
          "base_uri": "https://localhost:8080/",
          "height": 153
        }
      },
      "source": [
        "! ls gdrive/'My Drive'\n",
        "root = 'gdrive/My Drive/adl_pro/'"
      ],
      "execution_count": 0,
      "outputs": [
        {
          "output_type": "stream",
          "text": [
            " adl_pro\t\t\t    'Colab Notebooks'\n",
            " ADL_Project_Script.gdoc\t    'COMS 6998 - Cloud Project Proposal.gdoc'\n",
            " Aggarwal_Luv_la2733_Resume_ML.pdf   la2733_observations.gdoc\n",
            " Aggarwal_Luv_la2733_Resume.pdf     'MMD CAR POOL  APP.gslides'\n",
            " AlaapFinalReport.pdf\t\t     Notability\n",
            "'AML Midterm.gdoc'\t\t     slides\n"
          ],
          "name": "stdout"
        }
      ]
    },
    {
      "cell_type": "code",
      "metadata": {
        "colab_type": "code",
        "id": "PhTQ5mnF3WUm",
        "colab": {}
      },
      "source": [
        "def read_slide(slide, x, y, level, width, height, as_float=False):\n",
        "    im = slide.read_region((x,y), level, (width, height))\n",
        "    im = im.convert('RGB') # drop the alpha channel\n",
        "    if as_float:\n",
        "        im = np.asarray(im, dtype=np.float32)\n",
        "    else:\n",
        "        im = np.asarray(im)\n",
        "    assert im.shape == (height, width, 3)\n",
        "    return im"
      ],
      "execution_count": 0,
      "outputs": []
    },
    {
      "cell_type": "code",
      "metadata": {
        "colab_type": "code",
        "id": "JHbF_FfX3WU3",
        "colab": {}
      },
      "source": [
        "def find_tissue_pixels(image, intensity=0.8):\n",
        "    im_gray = rgb2gray(image)\n",
        "    assert im_gray.shape == (image.shape[0], image.shape[1])\n",
        "    indices = np.where(im_gray <= intensity)\n",
        "    return list(zip(indices[0], indices[1]))\n",
        "\n",
        "def apply_mask(im, mask, color=(255,0,0)):\n",
        "    masked = np.copy(im)\n",
        "    for x,y in mask: masked[x][y] = color\n",
        "    return masked"
      ],
      "execution_count": 0,
      "outputs": []
    },
    {
      "cell_type": "code",
      "metadata": {
        "colab_type": "code",
        "id": "t6VZi-6E-scS",
        "colab": {}
      },
      "source": [
        "def get_files(image):\n",
        "  base = root + 'slides/'\n",
        "  \n",
        "  slide_path = 'tumor_' + image + '.tif'\n",
        "  tumor_mask_path = 'tumor_' + image + '_mask.tif'\n",
        "\n",
        "  slide_url = base + slide_path\n",
        "  mask_url = base + tumor_mask_path\n",
        "  \n",
        "  return open_slide(slide_url), open_slide(mask_url)"
      ],
      "execution_count": 0,
      "outputs": []
    },
    {
      "cell_type": "code",
      "metadata": {
        "colab_type": "code",
        "id": "RBAWBPP2KysF",
        "colab": {}
      },
      "source": [
        "import cv2\n",
        "\n",
        "def pad_files(image, mask, stride, height, width):\n",
        "  gap_height = stride - ( height % stride )\n",
        "  gap_width = stride - ( width % stride )\n",
        "  \n",
        "  if gap_height % 2 == 1:\n",
        "    top = (gap_height - 1) / 2\n",
        "    bottom = (gap_height + 1) / 2\n",
        "  else:\n",
        "    top = bottom = gap_height / 2\n",
        "    \n",
        "  if gap_width % 2 == 1:\n",
        "    left = (gap_width - 1) / 2\n",
        "    right = (gap_width + 1) / 2\n",
        "  else:\n",
        "    left = right = gap_width / 2\n",
        "    \n",
        "  pixel = [0,0,0]\n",
        "  \n",
        "  return cv2.copyMakeBorder(image,top,bottom,left,right,cv2.BORDER_CONSTANT,value=pixel),\\\n",
        "      cv2.copyMakeBorder(mask,top,bottom,left,right,cv2.BORDER_CONSTANT,value=pixel[1:]),\\\n",
        "      height + gap_height, width + gap_width"
      ],
      "execution_count": 0,
      "outputs": []
    },
    {
      "cell_type": "code",
      "metadata": {
        "colab_type": "code",
        "id": "1NvdV7o2Q290",
        "colab": {}
      },
      "source": [
        "def prune(mask):\n",
        "  heights = list(np.max(mask, axis = 1))\n",
        "  top = min(heights.index(1), heights[::-1].index(1))\n",
        "  bottom = max(heights.index(1), heights[::-1].index(1))\n",
        "  \n",
        "  widths = list(np.max(mask, axis = 0))\n",
        "  left = min(widths.index(1), widths[::-1].index(1))\n",
        "  right = max(widths.index(1), widths[::-1].index(1))\n",
        "  return top, bottom, left, right"
      ],
      "execution_count": 0,
      "outputs": []
    },
    {
      "cell_type": "code",
      "metadata": {
        "colab_type": "code",
        "id": "h72X6KnkQ-9X",
        "colab": {}
      },
      "source": [
        "import collections\n",
        "\n",
        "def create_data(id, level, dim, stride, tissue_percentage, analyse):\n",
        "  base = root + 'data/level' + str(level) + '/'\n",
        "  healthy_counter = 0\n",
        "  cancer_counter = 0\n",
        "  \n",
        "  slide, tumor_mask = get_files(id)\n",
        "  x = 0\n",
        "  y = 0\n",
        "  width=slide.level_dimensions[level][0]\n",
        "  height=slide.level_dimensions[level][1]\n",
        "\n",
        "  stride = ( len(slide.level_dimensions) - level + 1 ) * stride\n",
        "\n",
        "  image = read_slide(slide, x, y, level, width, height)\n",
        "  mask = read_slide(tumor_mask, x, y, level, width, height)[:,:,0]\n",
        "\n",
        "  # image, mask, height, width = pad_files(image, mask, stride, height, width)\n",
        "  top, bottom, left, right = prune(mask)\n",
        "\n",
        "  top = max(top-dim,0)\n",
        "  bottom = min(bottom+dim,height-dim)\n",
        "\n",
        "  left = max(left-dim,0)\n",
        "  right = min(right+dim,width-dim)\n",
        "\n",
        "  for x in range(top,bottom,stride):\n",
        "    for y in range(left,right,stride):\n",
        "      data = image[x:x+dim,y:y+dim,:]\n",
        "      tissue = len(find_tissue_pixels(data)) / float(data.shape[0]**2) * 100\n",
        "      if tissue > tissue_percentage:\n",
        "        label = np.max(mask[x:x+dim,y:y+dim])\n",
        "        if label == 0:\n",
        "          healthy_counter += 1\n",
        "          path = base + analyse + '/healthy/' + id + '_' + str(healthy_counter)\n",
        "        else:\n",
        "          cancer_counter += 1\n",
        "          path = base + analyse + '/cancer/' + id + '_' +  str(cancer_counter)\n",
        "        data = Image.fromarray(data, 'RGB')\n",
        "        if not os.path.exists(path + '.png'):\n",
        "          data.save( path + '.png')  \n",
        "  return healthy_counter + cancer_counter"
      ],
      "execution_count": 0,
      "outputs": []
    },
    {
      "cell_type": "code",
      "metadata": {
        "colab_type": "code",
        "id": "KT7yV1mhi2DC",
        "colab": {}
      },
      "source": [
        "import pickle\n",
        "\n",
        "for img in eval(analyse):\n",
        "  for level in levels:\n",
        "    if not os.path.exists(root + 'data/level' + str(level)):\n",
        "      os.makedirs(root + 'data/level' + str(level))\n",
        "      os.makedirs(root + 'data/level' + str(level) + '/' + analyse)\n",
        "      os.makedirs(root + 'data/level' + str(level) + '/' + analyse + '/cancer/')\n",
        "      os.makedirs(root + 'data/level' + str(level) + '/' + analyse + '/healthy/')\n",
        "    count = create_data(img, level = level, dim = 299, stride = stride, tissue_percentage = tissue_percentage, analyse = analyse)\n",
        "    print('Generated ',count,' images for ', img, ' at level ',level)\n",
        "      "
      ],
      "execution_count": 0,
      "outputs": []
    },
    {
      "cell_type": "code",
      "metadata": {
        "colab_type": "code",
        "id": "vhIdgktFpG81",
        "colab": {}
      },
      "source": [
        ""
      ],
      "execution_count": 0,
      "outputs": []
    }
  ]
}